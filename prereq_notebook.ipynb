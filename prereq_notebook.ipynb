{
 "cells": [
  {
   "cell_type": "code",
   "execution_count": null,
   "metadata": {},
   "outputs": [],
   "source": [
    "import requests\n",
    "from time import sleep\n",
    "import random\n",
    "from multiprocessing import Process\n",
    "import boto3\n",
    "import json\n",
    "import sqlalchemy\n",
    "from sqlalchemy import text"
   ]
  },
  {
   "cell_type": "code",
   "execution_count": null,
   "metadata": {},
   "outputs": [],
   "source": [
    "class AWSDBConnector:\n",
    "\n",
    "    def __init__(self):\n",
    "\n",
    "        self.HOST = \"pinterestdbreadonly.cq2e8zno855e.eu-west-1.rds.amazonaws.com\"\n",
    "        self.USER = 'project_user'\n",
    "        self.PASSWORD = ':t%;yCY3Yjg'\n",
    "        self.DATABASE = 'pinterest_data'\n",
    "        self.PORT = 3306\n",
    "        \n",
    "    def create_db_connector(self):\n",
    "        engine = sqlalchemy.create_engine(f\"mysql+pymysql://{self.USER}:{self.PASSWORD}@{self.HOST}:{self.PORT}/{self.DATABASE}?charset=utf8mb4\")\n",
    "        return engine\n"
   ]
  },
  {
   "cell_type": "code",
   "execution_count": null,
   "metadata": {},
   "outputs": [],
   "source": [
    "def run_post_data_loop():\n",
    "    new_connector = AWSDBConnector()\n",
    "\n",
    "    #invoke URL-1\n",
    "    invoke_url_pin = \"https://kshmcn7hx6.execute-api.us-east-1.amazonaws.com/test/topics/0adad64f7925.pin\"\n",
    "\n",
    "    #invoke URL-2\n",
    "    invoke_url_geo = \"https://kshmcn7hx6.execute-api.us-east-1.amazonaws.com/test/topics/0adad64f7925.geo\"\n",
    "\n",
    "    #invoke URL-3\n",
    "    invoke_url_user = \"https://kshmcn7hx6.execute-api.us-east-1.amazonaws.com/test/topics/0adad64f7925.user\"\n",
    "\n",
    "#    while True:\n",
    "#        sleep(random.randrange(0, 2))\n",
    "#        random_row = random.randint(0, 11000)\n",
    "    engine = new_connector.create_db_connector()\n",
    "    limit_value = 5\n",
    "\n",
    "    with engine.connect() as connection:\n",
    "\n",
    "        pin_string = text(f\"SELECT * FROM pinterest_data LIMIT {limit_value}, 1\")\n",
    "        pin_selected_row = connection.execute(pin_string)\n",
    "        \n",
    "        for row in pin_selected_row:\n",
    "            pin_result = dict(row._mapping)\n",
    "            print(pin_result)\n",
    "        \n",
    "            #json dumps\n",
    "\n",
    "            #payload\n",
    "\n",
    "\n",
    "            #put request\n",
    "\n",
    "\n",
    "\n",
    "        geo_string = text(f\"SELECT * FROM geolocation_data LIMIT {limit_value}, 1\")\n",
    "        geo_selected_row = connection.execute(geo_string)\n",
    "        \n",
    "        for row in geo_selected_row:\n",
    "            geo_result = dict(row._mapping)\n",
    "            print(geo_result)\n",
    "        \n",
    "            #json dumps\n",
    "\n",
    "        user_string = text(f\"SELECT * FROM user_data LIMIT {limit_value}, 1\")\n",
    "        user_selected_row = connection.execute(user_string)\n",
    "        \n",
    "        for row in user_selected_row:\n",
    "            user_result = dict(row._mapping)\n",
    "            print(user_result)\n"
   ]
  },
  {
   "cell_type": "code",
   "execution_count": null,
   "metadata": {},
   "outputs": [],
   "source": []
  },
  {
   "cell_type": "code",
   "execution_count": null,
   "metadata": {},
   "outputs": [],
   "source": [
    "new_connector = AWSDBConnector()\n",
    "\n",
    "#invoke URL-1\n",
    "invoke_url_pin = \"https://kshmcn7hx6.execute-api.us-east-1.amazonaws.com/test/topics/0adad64f7925.pin\"\n",
    "\n",
    "\n",
    "engine = new_connector.create_db_connector()\n",
    "limit_value = 1\n",
    "\n",
    "with engine.connect() as connection:\n",
    "\n",
    "    pin_string = text(f\"SELECT * FROM pinterest_data LIMIT {limit_value}\")\n",
    "    pin_selected_row = connection.execute(pin_string)\n",
    "    \n",
    "    for row in pin_selected_row:\n",
    "        pin_result = dict(row._mapping)\n",
    "        "
   ]
  },
  {
   "cell_type": "code",
   "execution_count": null,
   "metadata": {},
   "outputs": [],
   "source": [
    "pin_result"
   ]
  },
  {
   "cell_type": "code",
   "execution_count": null,
   "metadata": {},
   "outputs": [],
   "source": [
    "pin_result[\"index\"]"
   ]
  },
  {
   "cell_type": "code",
   "execution_count": null,
   "metadata": {},
   "outputs": [],
   "source": []
  },
  {
   "cell_type": "code",
   "execution_count": null,
   "metadata": {},
   "outputs": [],
   "source": [
    "example_df = {\"index\": 1, \"name\": \"Maya\", \"age\": 25, \"role\": \"engineer\"}\n",
    "example_df"
   ]
  },
  {
   "cell_type": "code",
   "execution_count": null,
   "metadata": {},
   "outputs": [],
   "source": [
    "payload = json.dumps({\n",
    "    \"records\": [\n",
    "        {\n",
    "        #Data should be send as pairs of column_name:value, with different columns separated by commas       \n",
    "        \"value\": {\"index\": example_df[\"index\"], \"name\": example_df[\"name\"], \"age\": example_df[\"age\"], \"role\": example_df[\"role\"]}\n",
    "        }\n",
    "    ]\n",
    "})\n",
    "\n",
    "payload"
   ]
  },
  {
   "cell_type": "code",
   "execution_count": null,
   "metadata": {},
   "outputs": [],
   "source": [
    "payload_temp = json.dumps({\n",
    "    \"records\": [\n",
    "        {\n",
    "        #Data should be send as pairs of column_name:value, with different columns separated by commas       \n",
    "        \"value\": example_df\n",
    "        }\n",
    "    ]\n",
    "})\n",
    "\n",
    "payload_temp"
   ]
  },
  {
   "cell_type": "code",
   "execution_count": null,
   "metadata": {},
   "outputs": [],
   "source": []
  },
  {
   "cell_type": "code",
   "execution_count": 5,
   "metadata": {},
   "outputs": [
    {
     "name": "stdout",
     "output_type": "stream",
     "text": [
      "{'index': 1274, 'unique_id': 'bf6d5cd0-4bab-48f7-a5a6-671ac33f139d', 'title': 'Best Skin Care Routine for Acne Prone Skin', 'description': '*RestorationBeauty is reader-supported. If you click a link on our site and make a purchase, we may receive a small commission at no extra cost to you. Well hello there! ... Rea…\\xa0', 'poster_name': 'Selene @ Restoration Beauty', 'follower_count': '6k', 'tag_list': 'Neutrogena,Acne Skin,Oily Skin,Acne Scars,Organic Skin Care,Natural Skin Care,Natural Beauty,Organic Beauty,Asian Beauty', 'is_image_or_video': 'image', 'image_src': 'https://i.pinimg.com/originals/82/90/41/8290416587c810a1b75e620e441b2811.jpg', 'downloaded': 1, 'save_location': 'Local save in /data/beauty', 'category': 'beauty'}\n",
      "{\"records\": [{\"value\": {\"index\": 1274, \"unique_id\": \"bf6d5cd0-4bab-48f7-a5a6-671ac33f139d\", \"title\": \"Best Skin Care Routine for Acne Prone Skin\", \"description\": \"*RestorationBeauty is reader-supported. If you click a link on our site and make a purchase, we may receive a small commission at no extra cost to you. Well hello there! ... Rea\\u2026\\u00a0\", \"poster_name\": \"Selene @ Restoration Beauty\", \"follower_count\": \"6k\", \"tag_list\": \"Neutrogena,Acne Skin,Oily Skin,Acne Scars,Organic Skin Care,Natural Skin Care,Natural Beauty,Organic Beauty,Asian Beauty\", \"is_image_or_video\": \"image\", \"image_src\": \"https://i.pinimg.com/originals/82/90/41/8290416587c810a1b75e620e441b2811.jpg\", \"downloaded\": 1, \"save_location\": \"Local save in /data/beauty\", \"category\": \"beauty\"}}]}\n",
      "{'index': 10919, 'unique_id': '4b79d329-9c0c-47df-b13c-3c57e2016382', 'title': 'americanclassicmusclecars', 'description': 'American Muscle Cars… 1970 Plymouth Cuda', 'poster_name': 'Jackie Christy', 'follower_count': '675', 'tag_list': 'Us Cars,Sport Cars,Rat Rods,Automobile,Roadster,Plymouth Barracuda,Mustang Cobra,American Muscle Cars,Chevelle Ss', 'is_image_or_video': 'image', 'image_src': 'https://i.pinimg.com/originals/85/19/ce/8519ce954bc1094586d7a9194b4b7577.jpg', 'downloaded': 1, 'save_location': 'Local save in /data/vehicles', 'category': 'vehicles'}\n",
      "{\"records\": [{\"value\": {\"index\": 10919, \"unique_id\": \"4b79d329-9c0c-47df-b13c-3c57e2016382\", \"title\": \"americanclassicmusclecars\", \"description\": \"American Muscle Cars\\u2026 1970 Plymouth Cuda\", \"poster_name\": \"Jackie Christy\", \"follower_count\": \"675\", \"tag_list\": \"Us Cars,Sport Cars,Rat Rods,Automobile,Roadster,Plymouth Barracuda,Mustang Cobra,American Muscle Cars,Chevelle Ss\", \"is_image_or_video\": \"image\", \"image_src\": \"https://i.pinimg.com/originals/85/19/ce/8519ce954bc1094586d7a9194b4b7577.jpg\", \"downloaded\": 1, \"save_location\": \"Local save in /data/vehicles\", \"category\": \"vehicles\"}}]}\n",
      "{'index': 4807, 'unique_id': 'd2826717-2c22-45cc-9044-417132e7f3f0', 'title': 'rustic setup for a quince.', 'description': 'No description available Story format', 'poster_name': 'Paper porcelana', 'follower_count': '6k', 'tag_list': 'Tulle Wedding Decorations,Bridal Shower Table Decorations,Wedding Backdrop Design,Bridal Shower Backdrop,Bachelorette Decorations,Wedding Reception Backdrop,Bridal Shower Tables,Floral Backdrop,Wedding Wreaths', 'is_image_or_video': 'multi-video(story page format)', 'image_src': 'Image src error.', 'downloaded': 0, 'save_location': 'Local save in /data/event-planning', 'category': 'event-planning'}\n",
      "{\"records\": [{\"value\": {\"index\": 4807, \"unique_id\": \"d2826717-2c22-45cc-9044-417132e7f3f0\", \"title\": \"rustic setup for a quince.\", \"description\": \"No description available Story format\", \"poster_name\": \"Paper porcelana\", \"follower_count\": \"6k\", \"tag_list\": \"Tulle Wedding Decorations,Bridal Shower Table Decorations,Wedding Backdrop Design,Bridal Shower Backdrop,Bachelorette Decorations,Wedding Reception Backdrop,Bridal Shower Tables,Floral Backdrop,Wedding Wreaths\", \"is_image_or_video\": \"multi-video(story page format)\", \"image_src\": \"Image src error.\", \"downloaded\": 0, \"save_location\": \"Local save in /data/event-planning\", \"category\": \"event-planning\"}}]}\n",
      "{'index': 9893, 'unique_id': '39165953-ed39-44b2-8892-0368284392af', 'title': 'EPIC Bucket List Places in Canada You HAVE to Visit', 'description': \"Canada is full of so many incredible experiences from coast to coast to coast. Each province and territory has something unique to offer, so whether you're travelling to British…\\xa0\", 'poster_name': \"Lindz | I've Been Bit! | Ontario Travel, Hiking & More\", 'follower_count': '4k', 'tag_list': 'Pvt Canada,Visit Canada,Toronto Canada,Travel To Canada,Road Trip Canada,Canada Eh,Cool Places To Visit,Places To Travel,Travel Destinations', 'is_image_or_video': 'image', 'image_src': 'https://i.pinimg.com/originals/b6/e8/e5/b6e8e597cdbc1b0204e6a81b2b75907a.jpg', 'downloaded': 1, 'save_location': 'Local save in /data/travel', 'category': 'travel'}\n",
      "{\"records\": [{\"value\": {\"index\": 9893, \"unique_id\": \"39165953-ed39-44b2-8892-0368284392af\", \"title\": \"EPIC Bucket List Places in Canada You HAVE to Visit\", \"description\": \"Canada is full of so many incredible experiences from coast to coast to coast. Each province and territory has something unique to offer, so whether you're travelling to British\\u2026\\u00a0\", \"poster_name\": \"Lindz | I've Been Bit! | Ontario Travel, Hiking & More\", \"follower_count\": \"4k\", \"tag_list\": \"Pvt Canada,Visit Canada,Toronto Canada,Travel To Canada,Road Trip Canada,Canada Eh,Cool Places To Visit,Places To Travel,Travel Destinations\", \"is_image_or_video\": \"image\", \"image_src\": \"https://i.pinimg.com/originals/b6/e8/e5/b6e8e597cdbc1b0204e6a81b2b75907a.jpg\", \"downloaded\": 1, \"save_location\": \"Local save in /data/travel\", \"category\": \"travel\"}}]}\n",
      "{'index': 5566, 'unique_id': '2ebe1964-767d-40e7-a274-71294045b048', 'title': '11 simple steps to help you pay off any kind of debt', 'description': 'Take it from people who have been there.', 'poster_name': 'Elizabeth Leigh', 'follower_count': '406', 'tag_list': 'Illustration Simple,Pay Off Mortgage Early,Paying Off Credit Cards,Mortgage Tips,Refinance Mortgage,Mortgage Calculator,Mortgage Estimator,Mortgage Humor,Mortgage Payment', 'is_image_or_video': 'image', 'image_src': 'https://i.pinimg.com/originals/e9/6d/4d/e96d4dc5f4175a1633294a0d016387df.jpg', 'downloaded': 1, 'save_location': 'Local save in /data/finance', 'category': 'finance'}\n",
      "{\"records\": [{\"value\": {\"index\": 5566, \"unique_id\": \"2ebe1964-767d-40e7-a274-71294045b048\", \"title\": \"11 simple steps to help you pay off any kind of debt\", \"description\": \"Take it from people who have been there.\", \"poster_name\": \"Elizabeth Leigh\", \"follower_count\": \"406\", \"tag_list\": \"Illustration Simple,Pay Off Mortgage Early,Paying Off Credit Cards,Mortgage Tips,Refinance Mortgage,Mortgage Calculator,Mortgage Estimator,Mortgage Humor,Mortgage Payment\", \"is_image_or_video\": \"image\", \"image_src\": \"https://i.pinimg.com/originals/e9/6d/4d/e96d4dc5f4175a1633294a0d016387df.jpg\", \"downloaded\": 1, \"save_location\": \"Local save in /data/finance\", \"category\": \"finance\"}}]}\n",
      "{'index': 10012, 'unique_id': 'bdb3bfec-6539-4cd4-849e-8971530721ac', 'title': 'Best Greek Islands: The Top 20 List', 'description': 'I think I could get used to this view. #travel #greece #greekislands', 'poster_name': 'Lists For All', 'follower_count': '11k', 'tag_list': 'Beautiful Places To Travel,Best Places To Travel,Vacation Places,Dream Vacations,Romantic Travel,Vacation Packing,Packing Lists,Beautiful Hotels,Beautiful Gorgeous', 'is_image_or_video': 'image', 'image_src': 'https://i.pinimg.com/originals/f3/25/25/f3252527d52f965c04aab9d3bb6e4b7c.jpg', 'downloaded': 1, 'save_location': 'Local save in /data/travel', 'category': 'travel'}\n",
      "{\"records\": [{\"value\": {\"index\": 10012, \"unique_id\": \"bdb3bfec-6539-4cd4-849e-8971530721ac\", \"title\": \"Best Greek Islands: The Top 20 List\", \"description\": \"I think I could get used to this view. #travel #greece #greekislands\", \"poster_name\": \"Lists For All\", \"follower_count\": \"11k\", \"tag_list\": \"Beautiful Places To Travel,Best Places To Travel,Vacation Places,Dream Vacations,Romantic Travel,Vacation Packing,Packing Lists,Beautiful Hotels,Beautiful Gorgeous\", \"is_image_or_video\": \"image\", \"image_src\": \"https://i.pinimg.com/originals/f3/25/25/f3252527d52f965c04aab9d3bb6e4b7c.jpg\", \"downloaded\": 1, \"save_location\": \"Local save in /data/travel\", \"category\": \"travel\"}}]}\n",
      "{'index': 2463, 'unique_id': '0cea5c12-e6d7-428f-a3ea-98e04fe795e5', 'title': 'A Cozy Couch for our Big Family! - Cotton Stem', 'description': \"*This post is sponsored by Sixpenny - all opinions and reviews are mine, and thanks for supporting brands like this that help support my blog and fam!) My husband, y'all. This f…\\xa0\", 'poster_name': 'Cotton Stem', 'follower_count': '50k', 'tag_list': 'Christmas Living Rooms,Christmas Bedroom,Farmhouse Christmas Decor,Cozy Living Rooms,Tiny Living,Modern Living,Farmhouse Decor,Apartment Christmas,Cozy Family Rooms', 'is_image_or_video': 'image', 'image_src': 'https://i.pinimg.com/originals/92/64/86/926486b134c10b84a2d340e851f50ea8.jpg', 'downloaded': 1, 'save_location': 'Local save in /data/christmas', 'category': 'christmas'}\n",
      "{\"records\": [{\"value\": {\"index\": 2463, \"unique_id\": \"0cea5c12-e6d7-428f-a3ea-98e04fe795e5\", \"title\": \"A Cozy Couch for our Big Family! - Cotton Stem\", \"description\": \"*This post is sponsored by Sixpenny - all opinions and reviews are mine, and thanks for supporting brands like this that help support my blog and fam!) My husband, y'all. This f\\u2026\\u00a0\", \"poster_name\": \"Cotton Stem\", \"follower_count\": \"50k\", \"tag_list\": \"Christmas Living Rooms,Christmas Bedroom,Farmhouse Christmas Decor,Cozy Living Rooms,Tiny Living,Modern Living,Farmhouse Decor,Apartment Christmas,Cozy Family Rooms\", \"is_image_or_video\": \"image\", \"image_src\": \"https://i.pinimg.com/originals/92/64/86/926486b134c10b84a2d340e851f50ea8.jpg\", \"downloaded\": 1, \"save_location\": \"Local save in /data/christmas\", \"category\": \"christmas\"}}]}\n",
      "{'index': 3460, 'unique_id': 'e264d668-d58e-4cc1-93ad-4cb0f99e5ef7', 'title': 'Popsicle Stick Christmas Tree Ornaments', 'description': \"These popsicle stick Christmas trees are so much FUN! They're so easy to make and you can decorate them however you want!\", 'poster_name': 'One Little Project', 'follower_count': '472k', 'tag_list': 'Stick Christmas Tree,Kids Christmas Ornaments,Handmade Christmas Decorations,Winter Crafts For Kids,Christmas Crafts For Kids,Christmas Activities,Craft Stick Crafts,Holiday Crafts,Popsicle Stick Christmas Crafts', 'is_image_or_video': 'video', 'image_src': 'https://i.pinimg.com/videos/thumbnails/originals/4a/f7/76/4af77618b7a4e1ea0a401399346c10e5.0000001.jpg', 'downloaded': 1, 'save_location': 'Local save in /data/diy-and-crafts', 'category': 'diy-and-crafts'}\n",
      "{\"records\": [{\"value\": {\"index\": 3460, \"unique_id\": \"e264d668-d58e-4cc1-93ad-4cb0f99e5ef7\", \"title\": \"Popsicle Stick Christmas Tree Ornaments\", \"description\": \"These popsicle stick Christmas trees are so much FUN! They're so easy to make and you can decorate them however you want!\", \"poster_name\": \"One Little Project\", \"follower_count\": \"472k\", \"tag_list\": \"Stick Christmas Tree,Kids Christmas Ornaments,Handmade Christmas Decorations,Winter Crafts For Kids,Christmas Crafts For Kids,Christmas Activities,Craft Stick Crafts,Holiday Crafts,Popsicle Stick Christmas Crafts\", \"is_image_or_video\": \"video\", \"image_src\": \"https://i.pinimg.com/videos/thumbnails/originals/4a/f7/76/4af77618b7a4e1ea0a401399346c10e5.0000001.jpg\", \"downloaded\": 1, \"save_location\": \"Local save in /data/diy-and-crafts\", \"category\": \"diy-and-crafts\"}}]}\n",
      "{'index': 1655, 'unique_id': '3acd76bf-330b-46b7-afe8-176bf3f7cda7', 'title': \"12' King Flock® Slim Quick-Shape Artificial Christmas Tree with 1250 Warm White LED Lights\", 'description': \"Just admit it, we all know why you're here. You might have seen it at a friend's place, or perhaps your cousin won't quit it with how stunning theirs looks, or maybe you're chec…\\xa0\", 'poster_name': 'King Of Christmas', 'follower_count': '4k', 'tag_list': 'Slim Artificial Christmas Trees,Slim Christmas Tree,Cozy Christmas,Beautiful Christmas,Flocked Christmas Trees,Christmas Villages,Christmas Ideas,Victorian Christmas,Xmas', 'is_image_or_video': 'image', 'image_src': 'https://i.pinimg.com/originals/95/19/ac/9519ac7d1f2cac25e618d6c9081927be.jpg', 'downloaded': 1, 'save_location': 'Local save in /data/christmas', 'category': 'christmas'}\n",
      "{\"records\": [{\"value\": {\"index\": 1655, \"unique_id\": \"3acd76bf-330b-46b7-afe8-176bf3f7cda7\", \"title\": \"12' King Flock\\u00ae Slim Quick-Shape Artificial Christmas Tree with 1250 Warm White LED Lights\", \"description\": \"Just admit it, we all know why you're here. You might have seen it at a friend's place, or perhaps your cousin won't quit it with how stunning theirs looks, or maybe you're chec\\u2026\\u00a0\", \"poster_name\": \"King Of Christmas\", \"follower_count\": \"4k\", \"tag_list\": \"Slim Artificial Christmas Trees,Slim Christmas Tree,Cozy Christmas,Beautiful Christmas,Flocked Christmas Trees,Christmas Villages,Christmas Ideas,Victorian Christmas,Xmas\", \"is_image_or_video\": \"image\", \"image_src\": \"https://i.pinimg.com/originals/95/19/ac/9519ac7d1f2cac25e618d6c9081927be.jpg\", \"downloaded\": 1, \"save_location\": \"Local save in /data/christmas\", \"category\": \"christmas\"}}]}\n",
      "{'index': 5410, 'unique_id': '8b8aacc1-5351-4ac1-88c1-7620a7d257bb', 'title': 'Bookkeeping', 'description': '10 ways a bookkeeper can help your small business', 'poster_name': 'Sabrinas Organizing And Admin Services', 'follower_count': '22k', 'tag_list': 'Small Business Bookkeeping,Bookkeeping And Accounting,Small Business Accounting,Bookkeeping Services,Accounting And Finance,Business Analyst,Accounting Puns,Bookkeeping Training,Bookkeeping Course', 'is_image_or_video': 'image', 'image_src': 'https://i.pinimg.com/originals/8d/2b/f2/8d2bf2e0dde5d5a44d775a920cd5ab56.jpg', 'downloaded': 1, 'save_location': 'Local save in /data/finance', 'category': 'finance'}\n",
      "{\"records\": [{\"value\": {\"index\": 5410, \"unique_id\": \"8b8aacc1-5351-4ac1-88c1-7620a7d257bb\", \"title\": \"Bookkeeping\", \"description\": \"10 ways a bookkeeper can help your small business\", \"poster_name\": \"Sabrinas Organizing And Admin Services\", \"follower_count\": \"22k\", \"tag_list\": \"Small Business Bookkeeping,Bookkeeping And Accounting,Small Business Accounting,Bookkeeping Services,Accounting And Finance,Business Analyst,Accounting Puns,Bookkeeping Training,Bookkeeping Course\", \"is_image_or_video\": \"image\", \"image_src\": \"https://i.pinimg.com/originals/8d/2b/f2/8d2bf2e0dde5d5a44d775a920cd5ab56.jpg\", \"downloaded\": 1, \"save_location\": \"Local save in /data/finance\", \"category\": \"finance\"}}]}\n"
     ]
    }
   ],
   "source": [
    "new_connector = AWSDBConnector()\n",
    "\n",
    "#invoke URL-1\n",
    "invoke_url_pin = \"https://kshmcn7hx6.execute-api.us-east-1.amazonaws.com/test/topics/0adad64f7925.pin\"\n",
    "\n",
    "engine = new_connector.create_db_connector()\n",
    "\n",
    "for i in range(10):\n",
    "    random_row = random.randint(0, 11000)\n",
    "\n",
    "    with engine.connect() as connection:\n",
    "\n",
    "        pin_string = text(f\"SELECT * FROM pinterest_data LIMIT {random_row}, 1\")\n",
    "        pin_selected_row = connection.execute(pin_string)\n",
    "        \n",
    "        for row in pin_selected_row:\n",
    "            pin_result = dict(row._mapping)\n",
    "            print(pin_result)\n",
    "        \n",
    "            ##json dumps\n",
    "            payload = json.dumps({\n",
    "                            \"records\": [\n",
    "                                {\n",
    "                                #Data should be send as pairs of column_name:value, with different columns separated by commas       \n",
    "                                #\"value\": {\"index\": example_df[\"index\"], \"name\": example_df[\"name\"], \"age\": example_df[\"age\"], \"role\": example_df[\"role\"]}\n",
    "                                \"value\": {\"index\": pin_result[\"index\"],\n",
    "                                        \"unique_id\": pin_result[\"unique_id\"],\n",
    "                                        \"title\": pin_result[\"title\"],\n",
    "                                        \"description\": pin_result[\"description\"],\n",
    "                                        \"poster_name\": pin_result[\"poster_name\"],\n",
    "                                        \"follower_count\": pin_result[\"follower_count\"],\n",
    "                                        \"tag_list\": pin_result[\"tag_list\"],\n",
    "                                        \"is_image_or_video\": pin_result[\"is_image_or_video\"],\n",
    "                                        \"image_src\": pin_result[\"image_src\"],\n",
    "                                        \"downloaded\": pin_result[\"downloaded\"],\n",
    "                                        \"save_location\": pin_result[\"save_location\"],\n",
    "                                        \"category\": pin_result[\"category\"] \n",
    "                                        }\n",
    "                                }\n",
    "                            ]\n",
    "                        })\n",
    "            \n",
    "            print(payload)\n",
    "            ##put request\n",
    "            #response = requests.request(\"POST\", invoke_url_pin, data=payload)\n",
    "            #print(response.status_code)"
   ]
  },
  {
   "cell_type": "code",
   "execution_count": null,
   "metadata": {},
   "outputs": [],
   "source": []
  },
  {
   "attachments": {},
   "cell_type": "markdown",
   "metadata": {},
   "source": [
    "# Final"
   ]
  },
  {
   "cell_type": "code",
   "execution_count": 1,
   "metadata": {},
   "outputs": [],
   "source": [
    "import requests\n",
    "from time import sleep\n",
    "import random\n",
    "from multiprocessing import Process\n",
    "import boto3\n",
    "import json\n",
    "import sqlalchemy\n",
    "from sqlalchemy import text"
   ]
  },
  {
   "cell_type": "code",
   "execution_count": 2,
   "metadata": {},
   "outputs": [],
   "source": [
    "class AWSDBConnector:\n",
    "\n",
    "    def __init__(self):\n",
    "\n",
    "        self.HOST = \"pinterestdbreadonly.cq2e8zno855e.eu-west-1.rds.amazonaws.com\"\n",
    "        self.USER = 'project_user'\n",
    "        self.PASSWORD = ':t%;yCY3Yjg'\n",
    "        self.DATABASE = 'pinterest_data'\n",
    "        self.PORT = 3306\n",
    "        \n",
    "    def create_db_connector(self):\n",
    "        engine = sqlalchemy.create_engine(f\"mysql+pymysql://{self.USER}:{self.PASSWORD}@{self.HOST}:{self.PORT}/{self.DATABASE}?charset=utf8mb4\")\n",
    "        return engine\n"
   ]
  },
  {
   "attachments": {},
   "cell_type": "markdown",
   "metadata": {},
   "source": [
    ".pin data"
   ]
  },
  {
   "cell_type": "code",
   "execution_count": 6,
   "metadata": {},
   "outputs": [
    {
     "name": "stdout",
     "output_type": "stream",
     "text": [
      "415\n",
      "415\n",
      "415\n",
      "415\n",
      "415\n",
      "415\n",
      "415\n",
      "415\n",
      "415\n",
      "415\n"
     ]
    }
   ],
   "source": [
    "new_connector = AWSDBConnector()\n",
    "\n",
    "#invoke URL-1\n",
    "invoke_url_pin = \"https://kshmcn7hx6.execute-api.us-east-1.amazonaws.com/test/topics/0adad64f7925.pin\"\n",
    "engine = new_connector.create_db_connector()\n",
    "\n",
    "for i in range(10):\n",
    "    random_row = random.randint(0, 11000)\n",
    "\n",
    "    with engine.connect() as connection:\n",
    "        pin_string = text(f\"SELECT * FROM pinterest_data LIMIT {random_row}, 1\")\n",
    "        pin_selected_row = connection.execute(pin_string)\n",
    "        \n",
    "        for row in pin_selected_row:\n",
    "            pin_result = dict(row._mapping)\n",
    "            #print(pin_result)\n",
    "        \n",
    "            ##json dumps\n",
    "            payload = json.dumps({\n",
    "                            \"records\": [\n",
    "                                {\n",
    "                                #Data should be send as pairs of column_name:value, with different columns separated by commas       \n",
    "                                #\"value\": {\"index\": example_df[\"index\"], \"name\": example_df[\"name\"], \"age\": example_df[\"age\"], \"role\": example_df[\"role\"]}\n",
    "                                \"value\": {\"index\": pin_result[\"index\"],\n",
    "                                        \"unique_id\": pin_result[\"unique_id\"],\n",
    "                                        \"title\": pin_result[\"title\"],\n",
    "                                        \"description\": pin_result[\"description\"],\n",
    "                                        \"poster_name\": pin_result[\"poster_name\"],\n",
    "                                        \"follower_count\": pin_result[\"follower_count\"],\n",
    "                                        \"tag_list\": pin_result[\"tag_list\"],\n",
    "                                        \"is_image_or_video\": pin_result[\"is_image_or_video\"],\n",
    "                                        \"image_src\": pin_result[\"image_src\"],\n",
    "                                        \"downloaded\": pin_result[\"downloaded\"],\n",
    "                                        \"save_location\": pin_result[\"save_location\"],\n",
    "                                        \"category\": pin_result[\"category\"] \n",
    "                                        }\n",
    "                                }\n",
    "                            ]\n",
    "                        })\n",
    "            \n",
    "            #print(payload)\n",
    "            ##put request\n",
    "            response = requests.request(\"POST\", invoke_url_pin, data=payload)\n",
    "            print(response.status_code)"
   ]
  },
  {
   "cell_type": "code",
   "execution_count": null,
   "metadata": {},
   "outputs": [],
   "source": []
  },
  {
   "cell_type": "code",
   "execution_count": null,
   "metadata": {},
   "outputs": [],
   "source": []
  },
  {
   "cell_type": "code",
   "execution_count": null,
   "metadata": {},
   "outputs": [],
   "source": [
    "new_connector = AWSDBConnector()\n",
    "\n",
    "#invoke URL-2\n",
    "invoke_url_geo = \"https://kshmcn7hx6.execute-api.us-east-1.amazonaws.com/test/topics/0adad64f7925.geo\"\n",
    "\n",
    "engine = new_connector.create_db_connector()\n",
    "limit_value = 5\n",
    "\n",
    "with engine.connect() as connection:\n",
    "\n",
    "    geo_string = text(f\"SELECT * FROM geolocation_data LIMIT {limit_value}, 1\")\n",
    "    geo_selected_row = connection.execute(geo_string)\n",
    "    \n",
    "    for row in geo_selected_row:\n",
    "        geo_result = dict(row._mapping)\n",
    "        print(geo_result)\n",
    "    \n",
    "        #json dumps\n",
    "\n",
    "\n"
   ]
  },
  {
   "cell_type": "code",
   "execution_count": null,
   "metadata": {},
   "outputs": [],
   "source": [
    "new_connector = AWSDBConnector()\n",
    "\n",
    "#invoke URL-3\n",
    "invoke_url_user = \"https://kshmcn7hx6.execute-api.us-east-1.amazonaws.com/test/topics/0adad64f7925.user\"\n",
    "\n",
    "engine = new_connector.create_db_connector()\n",
    "limit_value = 5\n",
    "\n",
    "with engine.connect() as connection:\n",
    "\n",
    "    user_string = text(f\"SELECT * FROM user_data LIMIT {limit_value}, 1\")\n",
    "    user_selected_row = connection.execute(user_string)\n",
    "    \n",
    "    for row in user_selected_row:\n",
    "        user_result = dict(row._mapping)\n",
    "        print(user_result)"
   ]
  },
  {
   "cell_type": "code",
   "execution_count": null,
   "metadata": {},
   "outputs": [],
   "source": []
  },
  {
   "cell_type": "code",
   "execution_count": null,
   "metadata": {},
   "outputs": [],
   "source": []
  },
  {
   "cell_type": "code",
   "execution_count": null,
   "metadata": {},
   "outputs": [],
   "source": []
  },
  {
   "cell_type": "code",
   "execution_count": null,
   "metadata": {},
   "outputs": [],
   "source": []
  },
  {
   "cell_type": "code",
   "execution_count": null,
   "metadata": {},
   "outputs": [],
   "source": [
    "run_post_data_loop()\n",
    "print('Working')"
   ]
  }
 ],
 "metadata": {
  "kernelspec": {
   "display_name": "test_conda",
   "language": "python",
   "name": "python3"
  },
  "language_info": {
   "codemirror_mode": {
    "name": "ipython",
    "version": 3
   },
   "file_extension": ".py",
   "mimetype": "text/x-python",
   "name": "python",
   "nbconvert_exporter": "python",
   "pygments_lexer": "ipython3",
   "version": "3.10.9"
  },
  "orig_nbformat": 4
 },
 "nbformat": 4,
 "nbformat_minor": 2
}
